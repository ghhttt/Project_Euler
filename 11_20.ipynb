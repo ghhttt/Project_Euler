{
 "cells": [
  {
   "cell_type": "code",
   "execution_count": null,
   "id": "5f1c5a8c",
   "metadata": {},
   "outputs": [],
   "source": [
    "#Exercice_11"
   ]
  },
  {
   "cell_type": "code",
   "execution_count": null,
   "id": "cfe5ea47",
   "metadata": {},
   "outputs": [],
   "source": [
    "#Exercice_12"
   ]
  },
  {
   "cell_type": "code",
   "execution_count": 11,
   "id": "3a68fdb0",
   "metadata": {},
   "outputs": [
    {
     "name": "stdout",
     "output_type": "stream",
     "text": [
      "12375 576 76576500.0\n"
     ]
    }
   ],
   "source": [
    "def count_divisor(n):\n",
    "    somme = 0\n",
    "    for i in range(1,int(n**0.5)+1):\n",
    "        if n%i == 0:\n",
    "            somme +=2\n",
    "    return somme\n",
    "#we want 250 in sqrt(n) so n> 250**2 = 62500\n",
    "number = 0\n",
    "i = 0\n",
    "while number < 500:\n",
    "    i +=1\n",
    "    number = count_divisor(i*(i+1)/2)\n",
    "    \n",
    "print(i,number,i*(i+1)/2)"
   ]
  },
  {
   "cell_type": "code",
   "execution_count": 12,
   "id": "5e362bc5",
   "metadata": {},
   "outputs": [],
   "source": [
    "#Exercice_13"
   ]
  },
  {
   "cell_type": "code",
   "execution_count": null,
   "id": "1a3cdfde",
   "metadata": {},
   "outputs": [],
   "source": [
    "#Exercice_14"
   ]
  },
  {
   "cell_type": "code",
   "execution_count": 39,
   "id": "409162aa",
   "metadata": {},
   "outputs": [
    {
     "name": "stdout",
     "output_type": "stream",
     "text": [
      "837799 525\n"
     ]
    }
   ],
   "source": [
    "def etape(n):\n",
    "    if n%2 ==0:\n",
    "        return n//2\n",
    "    return 3*n+1\n",
    "\n",
    "def vol(n):\n",
    "    total = 1\n",
    "    while n!=1:\n",
    "        n = etape(n)\n",
    "        try:\n",
    "            return total + dico[n]\n",
    "        except:\n",
    "            total += 1\n",
    "    return total\n",
    "\n",
    "dico = {1:1}\n",
    "\n",
    "for i in range(2,1_000_000+1):\n",
    "    number = vol(i)\n",
    "    dico[i] = number\n",
    "\n",
    "indice = 0\n",
    "val_max = 0\n",
    "for key, val in dico.items():\n",
    "    if val>val_max:\n",
    "        val_max = val\n",
    "        indice = key\n",
    "print(indice,val_max)"
   ]
  },
  {
   "cell_type": "code",
   "execution_count": null,
   "id": "91081cf3",
   "metadata": {},
   "outputs": [],
   "source": [
    "#Exercice_15"
   ]
  },
  {
   "cell_type": "code",
   "execution_count": 51,
   "id": "6191cf6a",
   "metadata": {},
   "outputs": [
    {
     "name": "stdout",
     "output_type": "stream",
     "text": [
      "137846528820.0\n"
     ]
    }
   ],
   "source": [
    "import numpy as np\n",
    "taille = 21\n",
    "grid = np.zeros((taille+2,taille+2))\n",
    "grid[1][1] = 1\n",
    "for i in range(taille):\n",
    "    for j in range(taille):\n",
    "        if i ==j and i == 0:\n",
    "            grid[i+1][j+1]  = 1\n",
    "        else:\n",
    "            grid[i+1][j+1] = grid[i][j+1] + grid[i+1][j]\n",
    "print(grid[taille][taille])"
   ]
  },
  {
   "cell_type": "code",
   "execution_count": null,
   "id": "654daefe",
   "metadata": {},
   "outputs": [],
   "source": [
    "#Exercice_16"
   ]
  },
  {
   "cell_type": "code",
   "execution_count": 52,
   "id": "bdcfff56",
   "metadata": {},
   "outputs": [
    {
     "name": "stdout",
     "output_type": "stream",
     "text": [
      "1366\n"
     ]
    }
   ],
   "source": [
    "number = 2**1000\n",
    "somme = 0\n",
    "for i in str(number):\n",
    "    somme += int(i)\n",
    "print(somme)"
   ]
  },
  {
   "cell_type": "code",
   "execution_count": null,
   "id": "e5379e57",
   "metadata": {},
   "outputs": [],
   "source": [
    "#Exercice_17"
   ]
  },
  {
   "cell_type": "code",
   "execution_count": null,
   "id": "706f4da9",
   "metadata": {},
   "outputs": [],
   "source": [
    "#Exercice_18"
   ]
  },
  {
   "cell_type": "code",
   "execution_count": null,
   "id": "3fbd4f1d",
   "metadata": {},
   "outputs": [],
   "source": [
    "#Exercice_19"
   ]
  },
  {
   "cell_type": "code",
   "execution_count": null,
   "id": "3494bc31",
   "metadata": {},
   "outputs": [],
   "source": [
    "#Exercice_20"
   ]
  },
  {
   "cell_type": "code",
   "execution_count": 54,
   "id": "3cd351ba",
   "metadata": {},
   "outputs": [
    {
     "name": "stdout",
     "output_type": "stream",
     "text": [
      "648\n"
     ]
    }
   ],
   "source": [
    "import math\n",
    "number = math.factorial(100)\n",
    "somme = 0\n",
    "for i in str(number):\n",
    "    somme += int(i)\n",
    "print(somme)"
   ]
  },
  {
   "cell_type": "code",
   "execution_count": null,
   "id": "f273bbf0",
   "metadata": {},
   "outputs": [],
   "source": []
  }
 ],
 "metadata": {
  "kernelspec": {
   "display_name": "Python 3 (ipykernel)",
   "language": "python",
   "name": "python3"
  },
  "language_info": {
   "codemirror_mode": {
    "name": "ipython",
    "version": 3
   },
   "file_extension": ".py",
   "mimetype": "text/x-python",
   "name": "python",
   "nbconvert_exporter": "python",
   "pygments_lexer": "ipython3",
   "version": "3.11.4"
  }
 },
 "nbformat": 4,
 "nbformat_minor": 5
}

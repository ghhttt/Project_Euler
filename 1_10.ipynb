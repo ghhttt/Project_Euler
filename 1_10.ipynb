{
 "cells": [
  {
   "cell_type": "code",
   "execution_count": null,
   "id": "5cc92864",
   "metadata": {},
   "outputs": [],
   "source": [
    "#Exercice_1"
   ]
  },
  {
   "cell_type": "code",
   "execution_count": 1,
   "id": "c67e3ef8",
   "metadata": {},
   "outputs": [
    {
     "data": {
      "text/plain": [
       "233168"
      ]
     },
     "execution_count": 1,
     "metadata": {},
     "output_type": "execute_result"
    }
   ],
   "source": [
    "sum([i for i in range(1000) if i%3==0 or i%5==0])"
   ]
  },
  {
   "cell_type": "code",
   "execution_count": null,
   "id": "908688d3",
   "metadata": {},
   "outputs": [],
   "source": [
    "#Exercice_2"
   ]
  },
  {
   "cell_type": "code",
   "execution_count": 4,
   "id": "b2fbc90d",
   "metadata": {},
   "outputs": [
    {
     "name": "stdout",
     "output_type": "stream",
     "text": [
      "4613732\n"
     ]
    }
   ],
   "source": [
    "fibo = dict()\n",
    "somme = 2\n",
    "fibo[1] = 1\n",
    "fibo[2] = 2\n",
    "i=3\n",
    "maxi = 3\n",
    "while maxi<4_000_000:\n",
    "    fibo[i] = fibo[i-1]+fibo[i-2]\n",
    "    maxi = fibo[i]\n",
    "    if i%3 == 2:\n",
    "        somme += maxi\n",
    "    i += 1\n",
    "print(somme)"
   ]
  },
  {
   "cell_type": "code",
   "execution_count": null,
   "id": "85a40a5a",
   "metadata": {},
   "outputs": [],
   "source": [
    "#Exercice_3"
   ]
  },
  {
   "cell_type": "code",
   "execution_count": 14,
   "id": "a36bb61e",
   "metadata": {},
   "outputs": [
    {
     "data": {
      "text/plain": [
       "{71: 1, 839: 1, 1471: 1, 6857: 1}"
      ]
     },
     "execution_count": 14,
     "metadata": {},
     "output_type": "execute_result"
    }
   ],
   "source": [
    "cible = 600851475143\n",
    "def decomp(nombre, value, dico):\n",
    "    for i in range(value, int(nombre**0.5)+1):\n",
    "        if nombre%i == 0:\n",
    "            if i not in dico.keys():\n",
    "                dico[i] = 1\n",
    "            else:\n",
    "                dico[i] += 1\n",
    "            return decomp(nombre//i, i, dico)\n",
    "    if nombre not in dico.keys():\n",
    "        dico[nombre] = 1\n",
    "    else:\n",
    "        dico[nombre] += 1\n",
    "    return dico\n",
    "decomp(cible,2,{})"
   ]
  },
  {
   "cell_type": "code",
   "execution_count": null,
   "id": "b1682233",
   "metadata": {},
   "outputs": [],
   "source": [
    "#Exercice_4"
   ]
  },
  {
   "cell_type": "code",
   "execution_count": 25,
   "id": "46434f9d",
   "metadata": {},
   "outputs": [
    {
     "name": "stdout",
     "output_type": "stream",
     "text": [
      "906609\n"
     ]
    }
   ],
   "source": [
    "def is_palyndrome(number):\n",
    "    return str(number) == str(number)[::-1]\n",
    "\n",
    "liste = []\n",
    "for i in range(100, 1000):\n",
    "    for j in range(i, 1000):\n",
    "        if is_palyndrome(i*j):\n",
    "            liste.append(i*j)\n",
    "print(max(liste))\n"
   ]
  },
  {
   "cell_type": "code",
   "execution_count": null,
   "id": "eefcb830",
   "metadata": {},
   "outputs": [],
   "source": [
    "#Exercice_5"
   ]
  },
  {
   "cell_type": "code",
   "execution_count": 28,
   "id": "50500335",
   "metadata": {},
   "outputs": [
    {
     "name": "stdout",
     "output_type": "stream",
     "text": [
      "232792560\n"
     ]
    }
   ],
   "source": [
    "def pgcd(a,b):\n",
    "    if a%b == 0:\n",
    "        return b\n",
    "    return pgcd(b,a%b)\n",
    "def ppcm(a,b):\n",
    "    return (a*b)//pgcd(a,b)\n",
    "a = 1\n",
    "for i in range(1,21):\n",
    "    a = ppcm(a,i)\n",
    "print(a)"
   ]
  },
  {
   "cell_type": "code",
   "execution_count": null,
   "id": "2ef95bd3",
   "metadata": {},
   "outputs": [],
   "source": [
    "#Exercice_6"
   ]
  },
  {
   "cell_type": "code",
   "execution_count": 31,
   "id": "34674508",
   "metadata": {},
   "outputs": [
    {
     "data": {
      "text/plain": [
       "25164150"
      ]
     },
     "execution_count": 31,
     "metadata": {},
     "output_type": "execute_result"
    }
   ],
   "source": [
    "def somme_carre(n):\n",
    "    return n*(2*n+1)*(n+1)/6\n",
    "\n",
    "def somme_cubes(n):\n",
    "    return n**2*(n+1)**2/4\n",
    "n = 100\n",
    "int(somme_cubes(n)-somme_carre(n))"
   ]
  },
  {
   "cell_type": "code",
   "execution_count": null,
   "id": "c3c2eba7",
   "metadata": {},
   "outputs": [],
   "source": [
    "#Exercice_7"
   ]
  },
  {
   "cell_type": "code",
   "execution_count": 38,
   "id": "a7557cef",
   "metadata": {},
   "outputs": [
    {
     "name": "stdout",
     "output_type": "stream",
     "text": [
      "104743\n"
     ]
    }
   ],
   "source": [
    "dico = dict()\n",
    "dico[1] = 2\n",
    "index = 2\n",
    "i = 3\n",
    "while index <10_002:\n",
    "    dico_print = True\n",
    "    for key, value in dico.items():\n",
    "        if i%value == 0:\n",
    "            i+=1\n",
    "            dico_print = False\n",
    "            break\n",
    "    if dico_print:\n",
    "        dico[index] = i\n",
    "        i +=1\n",
    "        index +=1\n",
    "print(dico[10_001])"
   ]
  },
  {
   "cell_type": "code",
   "execution_count": null,
   "id": "2e133cc5",
   "metadata": {},
   "outputs": [],
   "source": [
    "#Exercice_8"
   ]
  },
  {
   "cell_type": "code",
   "execution_count": null,
   "id": "e2c1ea3c",
   "metadata": {},
   "outputs": [],
   "source": [
    "#Exercice_9"
   ]
  },
  {
   "cell_type": "code",
   "execution_count": 42,
   "id": "7b990b31",
   "metadata": {},
   "outputs": [
    {
     "name": "stdout",
     "output_type": "stream",
     "text": [
      "1000 31\n",
      "31875000 200 375 425\n"
     ]
    }
   ],
   "source": [
    "somme = 1000\n",
    "racine_carre_somme = int(somme**0.5)\n",
    "print(somme,racine_carre_somme)\n",
    "for i in range(1,somme+1):\n",
    "    for j in range(i,somme+1):\n",
    "        k = somme -i -j\n",
    "        if i**2+j**2 == k**2:\n",
    "            print(i*j*k,i,j,k)"
   ]
  },
  {
   "cell_type": "code",
   "execution_count": null,
   "id": "bdb3057f",
   "metadata": {},
   "outputs": [],
   "source": [
    "#Exercice_10"
   ]
  },
  {
   "cell_type": "code",
   "execution_count": 45,
   "id": "f1ee2dce",
   "metadata": {},
   "outputs": [
    {
     "data": {
      "text/plain": [
       "142913828922"
      ]
     },
     "execution_count": 45,
     "metadata": {},
     "output_type": "execute_result"
    }
   ],
   "source": [
    "dico = dict()\n",
    "dico[1] = 2\n",
    "index = 2\n",
    "i = 3\n",
    "while i <2_000_000:\n",
    "    dico_print = True\n",
    "    for key, value in dico.items():\n",
    "        if int(value**2)>i:\n",
    "            break\n",
    "        if i%value == 0:\n",
    "            i+=1\n",
    "            dico_print = False\n",
    "            break\n",
    "    if dico_print:\n",
    "        dico[index] = i\n",
    "        i +=1\n",
    "        index +=1\n",
    "sum([value for key,value in dico.items()])"
   ]
  },
  {
   "cell_type": "code",
   "execution_count": null,
   "id": "66b6b244",
   "metadata": {},
   "outputs": [],
   "source": []
  }
 ],
 "metadata": {
  "kernelspec": {
   "display_name": "Python 3 (ipykernel)",
   "language": "python",
   "name": "python3"
  },
  "language_info": {
   "codemirror_mode": {
    "name": "ipython",
    "version": 3
   },
   "file_extension": ".py",
   "mimetype": "text/x-python",
   "name": "python",
   "nbconvert_exporter": "python",
   "pygments_lexer": "ipython3",
   "version": "3.11.4"
  }
 },
 "nbformat": 4,
 "nbformat_minor": 5
}

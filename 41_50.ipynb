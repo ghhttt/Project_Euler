{
 "cells": [
  {
   "cell_type": "code",
   "execution_count": 1,
   "id": "903a124c",
   "metadata": {},
   "outputs": [],
   "source": [
    "#Exercice_41"
   ]
  },
  {
   "cell_type": "code",
   "execution_count": 10,
   "id": "9c2fb531",
   "metadata": {},
   "outputs": [
    {
     "name": "stdout",
     "output_type": "stream",
     "text": [
      "7652413\n"
     ]
    }
   ],
   "source": [
    "from itertools import permutations\n",
    "\n",
    "def is_prime(n):\n",
    "    for i in range(2,int(n**0.5)+1):\n",
    "        if n%i == 0:\n",
    "            return False\n",
    "    return True\n",
    "\n",
    "liste = []\n",
    "for j in range(3):\n",
    "    mot = [str(i) for i in range(1,2+3*j)]\n",
    "\n",
    "    p = permutations(mot)\n",
    "\n",
    "    # Print the obtained permutations\n",
    "    for elem in list(p):\n",
    "        val = int(\"\".join(elem))\n",
    "        if is_prime(val):\n",
    "            liste.append(val)\n",
    "print(max(liste))"
   ]
  },
  {
   "cell_type": "code",
   "execution_count": null,
   "id": "cc4441ec",
   "metadata": {},
   "outputs": [],
   "source": [
    "#Exercice_42"
   ]
  },
  {
   "cell_type": "code",
   "execution_count": null,
   "id": "27a88138",
   "metadata": {},
   "outputs": [],
   "source": [
    "#Exercice_43"
   ]
  },
  {
   "cell_type": "code",
   "execution_count": 19,
   "id": "23e200d4",
   "metadata": {},
   "outputs": [
    {
     "name": "stdout",
     "output_type": "stream",
     "text": [
      "16695334890\n"
     ]
    }
   ],
   "source": [
    "from itertools import permutations\n",
    "\n",
    "def is_good(d):\n",
    "    if int(d[1]+d[2]+d[3])%2 != 0:\n",
    "        return False\n",
    "    if int(d[2]+d[3]+d[4])%3 != 0:\n",
    "        return False\n",
    "    if int(d[3]+d[4]+d[5])%5 != 0:\n",
    "        return False\n",
    "    if int(d[4]+d[5]+d[6])%7 != 0:\n",
    "        return False\n",
    "    if int(d[5]+d[6]+d[7])%11 != 0:\n",
    "        return False\n",
    "    if int(d[6]+d[7]+d[8])%13 != 0:\n",
    "        return False\n",
    "    if int(d[7]+d[8]+d[9])%17 != 0:\n",
    "        return False\n",
    "    return True\n",
    "\n",
    "\n",
    "\n",
    "mot = [str(i) for i in range(10)]\n",
    "\n",
    "p = permutations(mot)\n",
    "liste = []\n",
    "# Print the obtained permutations\n",
    "for elem in list(p):\n",
    "    if is_good(elem):\n",
    "        val = int(\"\".join(elem))\n",
    "        liste.append(val)\n",
    "print(sum(liste))"
   ]
  },
  {
   "cell_type": "code",
   "execution_count": null,
   "id": "7ef65844",
   "metadata": {},
   "outputs": [],
   "source": [
    "#Exercice_44"
   ]
  },
  {
   "cell_type": "code",
   "execution_count": 129,
   "id": "6232a8e8",
   "metadata": {},
   "outputs": [
    {
     "name": "stdout",
     "output_type": "stream",
     "text": [
      "5482660\n"
     ]
    }
   ],
   "source": [
    "from math import sqrt\n",
    "\n",
    "def is_pentagonal(n): \n",
    "    return (1+sqrt(1+24*n))%6==0\n",
    "\n",
    "i=0\n",
    "while True:\n",
    "    i+=1\n",
    "    k = i*(3*i-1)//2\n",
    "    for v in range(1,i):\n",
    "        j = v*(3*v-1)//2\n",
    "        if is_pentagonal(k-j) and is_pentagonal(k+j) :\n",
    "            print(k-j)\n",
    "            break\n",
    "    else:\n",
    "        continue\n",
    "    break"
   ]
  },
  {
   "cell_type": "code",
   "execution_count": null,
   "id": "bba7dffc",
   "metadata": {},
   "outputs": [],
   "source": [
    "#Exercice_45"
   ]
  },
  {
   "cell_type": "code",
   "execution_count": 42,
   "id": "32d82a3c",
   "metadata": {},
   "outputs": [
    {
     "name": "stdout",
     "output_type": "stream",
     "text": [
      "1533776805\n"
     ]
    }
   ],
   "source": [
    "indice_t = 286\n",
    "indice_p = 165\n",
    "indice_h = 143\n",
    "\n",
    "\n",
    "\n",
    "boolean = True\n",
    "while boolean:\n",
    "    liste = [indice_t*(indice_t+1)//2, indice_p*(3*indice_p-1)//2, indice_h*(2*indice_h-1)]\n",
    "    indice = liste.index(min(liste))\n",
    "#     print(indice)\n",
    "    liste = list(set(liste))\n",
    "    if len(liste)  == 1:\n",
    "        boolean = False\n",
    "        print(liste[0])\n",
    "    else:\n",
    "        if indice == 0:\n",
    "            indice_t += 1\n",
    "        if indice == 1:\n",
    "            indice_p += 1\n",
    "        if indice == 2:\n",
    "            indice_h += 1"
   ]
  },
  {
   "cell_type": "code",
   "execution_count": null,
   "id": "9df2469f",
   "metadata": {},
   "outputs": [],
   "source": [
    "#Exercice_46"
   ]
  },
  {
   "cell_type": "code",
   "execution_count": 49,
   "id": "0aa9d0b4",
   "metadata": {},
   "outputs": [
    {
     "name": "stdout",
     "output_type": "stream",
     "text": [
      "5777\n"
     ]
    }
   ],
   "source": [
    "liste_prime = []\n",
    "\n",
    "def is_prime(n):\n",
    "    for i in range(2,int(n**0.5)+1):\n",
    "        if n%i == 0:\n",
    "            return False\n",
    "    return True\n",
    "\n",
    "def test(n,liste):\n",
    "    boolean = False\n",
    "    for prime in liste:\n",
    "        val = ((2*i+1-prime)/2)**0.5\n",
    "        if val == int(val):\n",
    "            boolean = True\n",
    "            break\n",
    "    return boolean\n",
    "    \n",
    "\n",
    "boolean = True\n",
    "i = 0\n",
    "while boolean:\n",
    "    i += 1\n",
    "    if is_prime(2*i+1):\n",
    "        liste_prime.append(2*i+1)\n",
    "    else:\n",
    "        boolean = test(2*i+1,liste_prime)\n",
    "    \n",
    "print(2*i+1)"
   ]
  },
  {
   "cell_type": "code",
   "execution_count": null,
   "id": "bdff4af9",
   "metadata": {},
   "outputs": [],
   "source": [
    "#Exercice_47"
   ]
  },
  {
   "cell_type": "code",
   "execution_count": 113,
   "id": "1a284b6d",
   "metadata": {},
   "outputs": [
    {
     "name": "stdout",
     "output_type": "stream",
     "text": [
      "134043 [134043, 134044, 134045, 134046] [3, 491, 13, 7, 2, 31, 47, 23, 17, 83, 19, 5, 11, 2, 3, 677]\n"
     ]
    }
   ],
   "source": [
    "def decomp(n,liste):\n",
    "#     print(n,liste)\n",
    "    if n == 1:\n",
    "        return liste\n",
    "    for i in range(2,int(n**0.5)+1):\n",
    "        if n%i == 0:\n",
    "            liste.append(i)\n",
    "            return decomp(n//i,liste)\n",
    "    liste.append(n)\n",
    "    return list(set(liste))\n",
    "\n",
    "boolean = True\n",
    "indice = 2\n",
    "nb=4\n",
    "while boolean:\n",
    "    liste = [i for i in range(indice,indice+nb)]\n",
    "    liste_decomp = []\n",
    "    for elem in liste:\n",
    "        liste_decomp += decomp(elem,[])\n",
    "    if nb**2 == len(liste_decomp):\n",
    "        boolean = False\n",
    "        print(indice,liste,liste_decomp)\n",
    "    indice += 1"
   ]
  },
  {
   "cell_type": "code",
   "execution_count": null,
   "id": "ba178cdd",
   "metadata": {},
   "outputs": [],
   "source": [
    "#Exercice_48"
   ]
  },
  {
   "cell_type": "code",
   "execution_count": 51,
   "id": "cb464750",
   "metadata": {},
   "outputs": [
    {
     "name": "stdout",
     "output_type": "stream",
     "text": [
      "9110846700\n"
     ]
    }
   ],
   "source": [
    "val = sum(i**i for i in range(1,1000))\n",
    "val = val%10**10\n",
    "print(val)"
   ]
  },
  {
   "cell_type": "code",
   "execution_count": null,
   "id": "03fdbae5",
   "metadata": {},
   "outputs": [],
   "source": [
    "#Exercice_49"
   ]
  },
  {
   "cell_type": "code",
   "execution_count": 74,
   "id": "b9f6ccd4",
   "metadata": {},
   "outputs": [
    {
     "name": "stdout",
     "output_type": "stream",
     "text": [
      "1478 [1487, 1847, 4817, 4871, 7481, 7841, 8147, 8741] 3330 1487 4817 8147\n",
      "2699 [2699, 2969, 6299, 9629] 3330 2969 6299 9629\n"
     ]
    }
   ],
   "source": [
    "dico = dict()\n",
    "\n",
    "def is_prime(n):\n",
    "    for i in range(2,int(n**0.5)+1):\n",
    "        if n%i == 0:\n",
    "            return False\n",
    "    return True\n",
    "\n",
    "liste_possi = []\n",
    "for i in range(10**3,10**4):\n",
    "    if is_prime(i):\n",
    "        liste_possi.append(i)\n",
    "\n",
    "for elem in liste_possi:\n",
    "    liste_number = \"\".join(sorted([str(i) for i in str(elem)]))\n",
    "    if liste_number in dico.keys():\n",
    "        dico[liste_number].append(elem)\n",
    "    else:\n",
    "        dico[liste_number] = [elem]\n",
    "    \n",
    "dico_second = dict()\n",
    "for elem, val in dico.items():\n",
    "    dico_second[elem] = {}\n",
    "    n = len(val)\n",
    "    for i in range(n):\n",
    "        for j in range(i+1,n):\n",
    "            for x in range(j+1,n):\n",
    "                if val[x] + val[i] == 2*val[j]:\n",
    "                    print(elem,val,val[x]-val[j],val[i],val[j],val[x])\n",
    "# print(dico_second['1478'])"
   ]
  },
  {
   "cell_type": "code",
   "execution_count": null,
   "id": "cdcd99e8",
   "metadata": {},
   "outputs": [],
   "source": [
    "#Exercice_50"
   ]
  },
  {
   "cell_type": "code",
   "execution_count": 92,
   "id": "76ef7be2",
   "metadata": {},
   "outputs": [
    {
     "name": "stdout",
     "output_type": "stream",
     "text": [
      "543 997651\n"
     ]
    }
   ],
   "source": [
    "liste_prime = [2]\n",
    "\n",
    "def is_prime(n):\n",
    "    for i in range(2,int(n**0.5)+1):\n",
    "        if n%i == 0:\n",
    "            return False\n",
    "    return True\n",
    "for i in range(3,1_000_000):\n",
    "    if is_prime(i):\n",
    "        liste_prime.append(i)\n",
    "\n",
    "borne = 1_000_000\n",
    "n = len(liste_prime)\n",
    "maxi = 0\n",
    "valeur = 0\n",
    "for i in range(n):\n",
    "    for j in range(i+1+maxi,n):\n",
    "        val = sum(liste_prime[i:j])\n",
    "        if val>borne:\n",
    "            break\n",
    "        if val in liste_prime:\n",
    "            if j-i>maxi:\n",
    "                maxi = j-i\n",
    "                valeur = val\n",
    "print(maxi,valeur)"
   ]
  },
  {
   "cell_type": "code",
   "execution_count": null,
   "id": "c9361297",
   "metadata": {},
   "outputs": [],
   "source": []
  }
 ],
 "metadata": {
  "kernelspec": {
   "display_name": "Python 3 (ipykernel)",
   "language": "python",
   "name": "python3"
  },
  "language_info": {
   "codemirror_mode": {
    "name": "ipython",
    "version": 3
   },
   "file_extension": ".py",
   "mimetype": "text/x-python",
   "name": "python",
   "nbconvert_exporter": "python",
   "pygments_lexer": "ipython3",
   "version": "3.11.4"
  }
 },
 "nbformat": 4,
 "nbformat_minor": 5
}

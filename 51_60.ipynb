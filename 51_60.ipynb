{
 "cells": [
  {
   "cell_type": "code",
   "execution_count": null,
   "id": "61b3ec83",
   "metadata": {},
   "outputs": [],
   "source": [
    "#Exercice_51"
   ]
  },
  {
   "cell_type": "code",
   "execution_count": null,
   "id": "2c84e4de",
   "metadata": {},
   "outputs": [],
   "source": [
    "#Exercice_52"
   ]
  },
  {
   "cell_type": "code",
   "execution_count": 3,
   "id": "9137fa8c",
   "metadata": {},
   "outputs": [
    {
     "name": "stdout",
     "output_type": "stream",
     "text": [
      "142857\n"
     ]
    }
   ],
   "source": [
    "def test(n):\n",
    "    liste = list(set(str(n)))\n",
    "    if len(str(n)) != len(liste):\n",
    "        return False\n",
    "    for i in range(2,7):\n",
    "        liste_i = list(set(str(n*i)))\n",
    "        if liste_i != liste:\n",
    "            return False\n",
    "    return True\n",
    "\n",
    "indice = 0\n",
    "boolean = True\n",
    "while boolean:\n",
    "    indice += 1\n",
    "    if test(indice):\n",
    "        boolean = False\n",
    "print(indice)"
   ]
  },
  {
   "cell_type": "code",
   "execution_count": null,
   "id": "0a36a11b",
   "metadata": {},
   "outputs": [],
   "source": [
    "#Exercice_53"
   ]
  },
  {
   "cell_type": "code",
   "execution_count": 3,
   "id": "200b07e1",
   "metadata": {},
   "outputs": [
    {
     "name": "stdout",
     "output_type": "stream",
     "text": [
      "4075\n"
     ]
    }
   ],
   "source": [
    "import math\n",
    "\n",
    "somme = 0\n",
    "for i in range(1,101):\n",
    "    for j in range(i):\n",
    "        if math.comb(i, j) > 1_000_000:\n",
    "            somme += i+1-2*j\n",
    "            break\n",
    "print (somme)"
   ]
  },
  {
   "cell_type": "code",
   "execution_count": null,
   "id": "ba49b97f",
   "metadata": {},
   "outputs": [],
   "source": [
    "#Exercice_54"
   ]
  },
  {
   "cell_type": "code",
   "execution_count": null,
   "id": "459d0468",
   "metadata": {},
   "outputs": [],
   "source": [
    "#Exercice_55"
   ]
  },
  {
   "cell_type": "code",
   "execution_count": 11,
   "id": "e80253af",
   "metadata": {},
   "outputs": [
    {
     "name": "stdout",
     "output_type": "stream",
     "text": [
      "[196, 295, 394, 493, 592, 689, 691, 788, 790, 879, 887, 978, 986, 1495, 1497, 1585, 1587, 1675, 1677, 1765, 1767, 1855, 1857, 1945, 1947, 1997, 2494, 2496, 2584, 2586, 2674, 2676, 2764, 2766, 2854, 2856, 2944, 2946, 2996, 3493, 3495, 3583, 3585, 3673, 3675, 3763, 3765, 3853, 3855, 3943, 3945, 3995, 4079, 4169, 4259, 4349, 4439, 4492, 4494, 4529, 4582, 4584, 4619, 4672, 4674, 4709, 4762, 4764, 4799, 4852, 4854, 4889, 4942, 4944, 4979, 4994, 5078, 5168, 5258, 5348, 5438, 5491, 5493, 5528, 5581, 5583, 5618, 5671, 5673, 5708, 5761, 5763, 5798, 5851, 5853, 5888, 5941, 5943, 5978, 5993, 6077, 6167, 6257, 6347, 6437, 6490, 6492, 6527, 6580, 6582, 6617, 6670, 6672, 6707, 6760, 6762, 6797, 6850, 6852, 6887, 6940, 6942, 6977, 6992, 7059, 7076, 7149, 7166, 7239, 7256, 7329, 7346, 7419, 7436, 7491, 7509, 7526, 7581, 7599, 7616, 7671, 7689, 7706, 7761, 7779, 7796, 7851, 7869, 7886, 7941, 7959, 7976, 7991, 8058, 8075, 8079, 8089, 8148, 8165, 8169, 8179, 8238, 8255, 8259, 8269, 8328, 8345, 8349, 8359, 8418, 8435, 8439, 8449, 8490, 8508, 8525, 8529, 8539, 8580, 8598, 8615, 8619, 8629, 8670, 8688, 8705, 8709, 8719, 8760, 8778, 8795, 8799, 8809, 8850, 8868, 8885, 8889, 8899, 8940, 8958, 8975, 8979, 8989, 8990, 9057, 9074, 9078, 9088, 9147, 9164, 9168, 9178, 9237, 9254, 9258, 9268, 9327, 9344, 9348, 9358, 9417, 9434, 9438, 9448, 9507, 9524, 9528, 9538, 9597, 9614, 9618, 9628, 9687, 9704, 9708, 9718, 9777, 9794, 9798, 9808, 9867, 9884, 9888, 9898, 9957, 9974, 9978, 9988, 9999] 249\n"
     ]
    }
   ],
   "source": [
    "def is_Lychrel(n):\n",
    "    limit = 0\n",
    "    while limit<50:\n",
    "        n = n + int(str(n)[::-1])\n",
    "        if str(n) == str(n)[::-1]:\n",
    "            return False\n",
    "        limit += 1\n",
    "    return True\n",
    "\n",
    "liste = []\n",
    "for i in range(1,10_000):\n",
    "    if is_Lychrel(i):\n",
    "        liste.append(i)\n",
    "print(liste,len(liste))"
   ]
  },
  {
   "cell_type": "code",
   "execution_count": 12,
   "id": "cd3d8dcc",
   "metadata": {},
   "outputs": [],
   "source": [
    "#Exercice_56"
   ]
  },
  {
   "cell_type": "code",
   "execution_count": 13,
   "id": "2e5879f0",
   "metadata": {},
   "outputs": [
    {
     "name": "stdout",
     "output_type": "stream",
     "text": [
      "972 3848960788934848611927795802824596789608451156087366034658627953530148126008534258032267383768627487094610968554286692697374726725853195657679460590239636893953692985541958490801973870359499\n"
     ]
    }
   ],
   "source": [
    "maxi = 0\n",
    "val_maxi = 0\n",
    "for i in range(100):\n",
    "    for j in range(100):\n",
    "        val = i**j\n",
    "        somme = sum([int(elem) for elem in str(val)])\n",
    "        if somme > maxi:\n",
    "            maxi = somme\n",
    "            val_maxi = val\n",
    "print(maxi,val_maxi)\n",
    "            "
   ]
  },
  {
   "cell_type": "code",
   "execution_count": null,
   "id": "d64ebe9b",
   "metadata": {},
   "outputs": [],
   "source": [
    "#Exercice_57"
   ]
  },
  {
   "cell_type": "code",
   "execution_count": 21,
   "id": "23709251",
   "metadata": {},
   "outputs": [
    {
     "name": "stdout",
     "output_type": "stream",
     "text": [
      "153\n"
     ]
    }
   ],
   "source": [
    "a = 3\n",
    "b = 2\n",
    "\n",
    "somme = 0\n",
    "for i in range(1,1000):\n",
    "    if len(str(a))>len(str(b)):\n",
    "#         print(a,b,i)\n",
    "        somme += 1\n",
    "    a,b= 2*b+a,a+b\n",
    "#     print(a,b)\n",
    "print(somme)\n",
    "    "
   ]
  },
  {
   "cell_type": "code",
   "execution_count": null,
   "id": "4054b528",
   "metadata": {},
   "outputs": [],
   "source": [
    "#Exercice_58"
   ]
  },
  {
   "cell_type": "code",
   "execution_count": 22,
   "id": "f8198eca",
   "metadata": {},
   "outputs": [
    {
     "name": "stdout",
     "output_type": "stream",
     "text": [
      "26241\n"
     ]
    }
   ],
   "source": [
    "def is_prime(n):\n",
    "    for i in range(2,int(n**0.5)+1):\n",
    "        if n%i == 0:\n",
    "            return False\n",
    "    return True\n",
    "\n",
    "total = 5\n",
    "somme = 3\n",
    "debut = 9\n",
    "layers = 3\n",
    "while somme*100>total*10:\n",
    "    total += 4\n",
    "    for i in range(4):\n",
    "        debut += layers +1\n",
    "        if is_prime(debut):\n",
    "            somme += 1\n",
    "    layers += 2\n",
    "\n",
    "print(layers)"
   ]
  },
  {
   "cell_type": "code",
   "execution_count": null,
   "id": "e50d6a92",
   "metadata": {},
   "outputs": [],
   "source": [
    "#Exercice_59"
   ]
  },
  {
   "cell_type": "code",
   "execution_count": null,
   "id": "ecdd8cab",
   "metadata": {},
   "outputs": [],
   "source": [
    "#Exercice_60"
   ]
  }
 ],
 "metadata": {
  "kernelspec": {
   "display_name": "Python 3 (ipykernel)",
   "language": "python",
   "name": "python3"
  },
  "language_info": {
   "codemirror_mode": {
    "name": "ipython",
    "version": 3
   },
   "file_extension": ".py",
   "mimetype": "text/x-python",
   "name": "python",
   "nbconvert_exporter": "python",
   "pygments_lexer": "ipython3",
   "version": "3.11.4"
  }
 },
 "nbformat": 4,
 "nbformat_minor": 5
}

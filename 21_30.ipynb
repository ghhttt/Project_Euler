{
 "cells": [
  {
   "cell_type": "code",
   "execution_count": null,
   "id": "1cf71571",
   "metadata": {},
   "outputs": [],
   "source": [
    "#Exercice_21"
   ]
  },
  {
   "cell_type": "code",
   "execution_count": 10,
   "id": "307492bf",
   "metadata": {},
   "outputs": [
    {
     "name": "stdout",
     "output_type": "stream",
     "text": [
      "31626\n"
     ]
    }
   ],
   "source": [
    "def somme_diviseur(n):\n",
    "    liste = [1]\n",
    "    for i in range(2,int(n**0.5)+1):\n",
    "        if n%i == 0:\n",
    "            if i**2 == n:\n",
    "                liste.append(i)\n",
    "            else:\n",
    "                liste.append(i)\n",
    "                liste.append(n//i)\n",
    "    return sum(liste)\n",
    "dico = dict()\n",
    "for i in range(1,10001):\n",
    "    dico[i] = somme_diviseur(i)\n",
    "somme = 0\n",
    "for i in range(1,10001):\n",
    "    try:\n",
    "        if i == dico[dico[i]] and i != dico[i]:\n",
    "#             print(i)\n",
    "            somme += i\n",
    "    except:\n",
    "        pass\n",
    "print(somme)"
   ]
  },
  {
   "cell_type": "code",
   "execution_count": null,
   "id": "b306efb3",
   "metadata": {},
   "outputs": [],
   "source": [
    "#Exercice_22"
   ]
  },
  {
   "cell_type": "code",
   "execution_count": 1,
   "id": "fe741475",
   "metadata": {},
   "outputs": [],
   "source": [
    "#Exercice_23"
   ]
  },
  {
   "cell_type": "code",
   "execution_count": 17,
   "id": "406eef2c",
   "metadata": {},
   "outputs": [
    {
     "name": "stdout",
     "output_type": "stream",
     "text": [
      "4179871\n"
     ]
    }
   ],
   "source": [
    "def somme_diviseur(n):\n",
    "    liste = [1]\n",
    "    for i in range(2,int(n**0.5)+1):\n",
    "        if n%i == 0:\n",
    "            if i**2 == n:\n",
    "                liste.append(i)\n",
    "            else:\n",
    "                liste.append(i)\n",
    "                liste.append(n//i)\n",
    "    return sum(liste)\n",
    "\n",
    "liste_abundant  = []\n",
    "dico = dict()\n",
    "for i in range(1,28123):\n",
    "    dico[i] = i\n",
    "    if somme_diviseur(i)>i:\n",
    "        liste_abundant.append(i)\n",
    "n = len(liste_abundant)\n",
    "for i in range(n):\n",
    "    for j in range(i,n):\n",
    "        if (liste_abundant[i]+liste_abundant[j])>28123:\n",
    "            break\n",
    "        try:\n",
    "            dico[liste_abundant[i]+liste_abundant[j]] = 0\n",
    "        except:\n",
    "            pass\n",
    "    \n",
    "print(sum(dico.values()))"
   ]
  },
  {
   "cell_type": "code",
   "execution_count": null,
   "id": "9a0a7421",
   "metadata": {},
   "outputs": [],
   "source": [
    "#Exercice_24"
   ]
  },
  {
   "cell_type": "code",
   "execution_count": 5,
   "id": "166f9442",
   "metadata": {},
   "outputs": [
    {
     "name": "stdout",
     "output_type": "stream",
     "text": [
      "2783915460\n"
     ]
    }
   ],
   "source": [
    "import math\n",
    "\n",
    "liste = [i for i in range(10)]\n",
    "n = 999_999\n",
    "liste_number = []\n",
    "while liste:\n",
    "    combi = math.factorial(len(liste)-1)\n",
    "    a = n//combi\n",
    "    n = n%combi\n",
    "    liste_number.append(str(liste[a]))\n",
    "    liste.remove(liste[a])\n",
    "print(\"\".join(liste_number))"
   ]
  },
  {
   "cell_type": "code",
   "execution_count": null,
   "id": "46575888",
   "metadata": {},
   "outputs": [],
   "source": [
    "#Exercice_25"
   ]
  },
  {
   "cell_type": "code",
   "execution_count": 16,
   "id": "6b2276c6",
   "metadata": {},
   "outputs": [
    {
     "data": {
      "text/plain": [
       "4781.859270753069"
      ]
     },
     "execution_count": 16,
     "metadata": {},
     "output_type": "execute_result"
    }
   ],
   "source": [
    "#we know that Fn = (1/V5)*((1+V5)/2)**n\n",
    "seuil = 10**999\n",
    "n = math.log(seuil)+0.5*math.log(5)\n",
    "m =math.log(1+5**0.5) - math.log(2)\n",
    "n/m"
   ]
  },
  {
   "cell_type": "code",
   "execution_count": null,
   "id": "d2d6b239",
   "metadata": {},
   "outputs": [],
   "source": [
    "#Exercice_26"
   ]
  },
  {
   "cell_type": "code",
   "execution_count": 33,
   "id": "985ae6d9",
   "metadata": {},
   "outputs": [
    {
     "name": "stdout",
     "output_type": "stream",
     "text": [
      "982 983\n"
     ]
    }
   ],
   "source": [
    "def repetition(b):\n",
    "    dico = dict()\n",
    "    a = 1\n",
    "    dico[a,b] = 0\n",
    "    indice = 1\n",
    "    boolean = True\n",
    "    sol = 0\n",
    "    while boolean:\n",
    "\n",
    "        a = 10*a%b\n",
    "        if a == 0:\n",
    "            sol =  0\n",
    "            boolean = False\n",
    "            break\n",
    "        try:\n",
    "            sol = (indice- dico[a,b])\n",
    "            boolean = False\n",
    "            break\n",
    "        except:\n",
    "            pass\n",
    "        dico[a,b] = indice\n",
    "        indice +=1\n",
    "    return sol\n",
    "\n",
    "maxi = 0\n",
    "indice = 0\n",
    "for i in range(1,1000):\n",
    "    val = repetition(i)\n",
    "    if val>maxi:\n",
    "        maxi = val\n",
    "        indice = i\n",
    "print(maxi,indice)"
   ]
  },
  {
   "cell_type": "code",
   "execution_count": null,
   "id": "dcbed715",
   "metadata": {},
   "outputs": [],
   "source": [
    "#Exercice_27"
   ]
  },
  {
   "cell_type": "code",
   "execution_count": 21,
   "id": "f66e50b9",
   "metadata": {},
   "outputs": [
    {
     "name": "stdout",
     "output_type": "stream",
     "text": [
      "(-61, 971) 71 -59231\n"
     ]
    }
   ],
   "source": [
    "def is_prime(n):\n",
    "    if n<0:\n",
    "        return False\n",
    "    for i in range(2,int(n**0.5)+1):\n",
    "        if n%i == 0:\n",
    "            return False\n",
    "    return True\n",
    "\n",
    "def test(a,b):\n",
    "    indice = 0\n",
    "    index = indice**2 + a*indice+b\n",
    "    while is_prime(index):\n",
    "        indice += 1\n",
    "        index = indice**2 + a*indice+b\n",
    "    return indice\n",
    "\n",
    "couple = (0,0)\n",
    "maxi = 0\n",
    "for i in range(2000):\n",
    "    for j in range(2000):\n",
    "        nb = test(i-1000,j-1000)\n",
    "        if nb>maxi:\n",
    "            couple = (i-1000,j-1000)\n",
    "            maxi = nb\n",
    "print(couple,maxi,couple[0]*couple[1])"
   ]
  },
  {
   "cell_type": "code",
   "execution_count": 17,
   "id": "265374ed",
   "metadata": {},
   "outputs": [],
   "source": [
    "#Exercice_28"
   ]
  },
  {
   "cell_type": "code",
   "execution_count": 20,
   "id": "8243dccd",
   "metadata": {},
   "outputs": [
    {
     "name": "stdout",
     "output_type": "stream",
     "text": [
      "669171001\n"
     ]
    }
   ],
   "source": [
    "somme = 1\n",
    "val = 1\n",
    "taille = 1001\n",
    "n = (taille+1)//2\n",
    "for i in range(1,n):\n",
    "    ecart = 2*i\n",
    "    val += ecart\n",
    "    somme += 4*val + 6*ecart\n",
    "    val += 3*ecart\n",
    "print(somme)"
   ]
  },
  {
   "cell_type": "code",
   "execution_count": null,
   "id": "1025e93d",
   "metadata": {},
   "outputs": [],
   "source": [
    "#Exercice_29"
   ]
  },
  {
   "cell_type": "code",
   "execution_count": 21,
   "id": "1dfcb45f",
   "metadata": {},
   "outputs": [
    {
     "name": "stdout",
     "output_type": "stream",
     "text": [
      "9183\n"
     ]
    }
   ],
   "source": [
    "dico = dict()\n",
    "for i in range(2,101):\n",
    "    for j in range(2,101):\n",
    "        dico[i**j] = 1\n",
    "print(len(dico.keys()))"
   ]
  },
  {
   "cell_type": "code",
   "execution_count": null,
   "id": "69424de6",
   "metadata": {},
   "outputs": [],
   "source": [
    "#Exercice_30"
   ]
  },
  {
   "cell_type": "code",
   "execution_count": 25,
   "id": "bf07a494",
   "metadata": {},
   "outputs": [
    {
     "name": "stdout",
     "output_type": "stream",
     "text": [
      "[4150, 4151, 54748, 92727, 93084, 194979] 443839\n"
     ]
    }
   ],
   "source": [
    "def traitement(number):\n",
    "    return sum([int(elem)**5 for elem in str(number)])\n",
    "liste = []\n",
    "for i in range(2, 10**7):\n",
    "    if i == traitement(i):\n",
    "        liste.append(i)\n",
    "print(liste,sum(liste))"
   ]
  },
  {
   "cell_type": "code",
   "execution_count": null,
   "id": "d4465cd1",
   "metadata": {},
   "outputs": [],
   "source": []
  }
 ],
 "metadata": {
  "kernelspec": {
   "display_name": "Python 3 (ipykernel)",
   "language": "python",
   "name": "python3"
  },
  "language_info": {
   "codemirror_mode": {
    "name": "ipython",
    "version": 3
   },
   "file_extension": ".py",
   "mimetype": "text/x-python",
   "name": "python",
   "nbconvert_exporter": "python",
   "pygments_lexer": "ipython3",
   "version": "3.11.4"
  }
 },
 "nbformat": 4,
 "nbformat_minor": 5
}

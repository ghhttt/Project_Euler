{
 "cells": [
  {
   "cell_type": "code",
   "execution_count": null,
   "id": "3c25dbf0",
   "metadata": {},
   "outputs": [],
   "source": [
    "#Exercice_31"
   ]
  },
  {
   "cell_type": "code",
   "execution_count": 12,
   "id": "310440c5",
   "metadata": {},
   "outputs": [
    {
     "data": {
      "text/plain": [
       "73682"
      ]
     },
     "execution_count": 12,
     "metadata": {},
     "output_type": "execute_result"
    }
   ],
   "source": [
    "liste = [200,100,50,20,10,5,2,1]\n",
    "def nb_possi(liste,total):\n",
    "    total_combi = 0\n",
    "    if total <0:\n",
    "        return 0\n",
    "    if total == 0:\n",
    "        return 1\n",
    "    if liste == []:\n",
    "        return 0\n",
    "    val = liste[0]\n",
    "    liste = liste[1:]\n",
    "    n = total//val\n",
    "    for i in range(n+1):\n",
    "        total_combi += nb_possi(liste,total-i*val)\n",
    "#     print(val,liste,total,total_combi)\n",
    "    return total_combi\n",
    "\n",
    "nb_possi(liste,200)"
   ]
  },
  {
   "cell_type": "code",
   "execution_count": null,
   "id": "7a08aa06",
   "metadata": {},
   "outputs": [],
   "source": [
    "#Exercice_32"
   ]
  },
  {
   "cell_type": "code",
   "execution_count": 48,
   "id": "542ad7da",
   "metadata": {},
   "outputs": [
    {
     "name": "stdout",
     "output_type": "stream",
     "text": [
      "45228\n"
     ]
    }
   ],
   "source": [
    "def valid(i,j,produit):\n",
    "    liste = str(i)+str(j)+str(produit)\n",
    "    if len(liste) !=9 or '0' in liste:\n",
    "        return False\n",
    "    liste = list(set(liste))\n",
    "    if len(liste)<9:\n",
    "        return False\n",
    "    return True\n",
    "\n",
    "liste = []\n",
    "for i in range(1,10**2):\n",
    "    for j in range(10**2,10**4):\n",
    "        if valid(i,j,i*j):\n",
    "            liste.append(i*j)\n",
    "#             print(i,j,i*j)\n",
    "liste = list(set(liste))\n",
    "print(sum(liste))"
   ]
  },
  {
   "cell_type": "code",
   "execution_count": 31,
   "id": "33e5ba00",
   "metadata": {},
   "outputs": [],
   "source": [
    "#Exercice_33"
   ]
  },
  {
   "cell_type": "code",
   "execution_count": 63,
   "id": "2414718e",
   "metadata": {},
   "outputs": [
    {
     "name": "stdout",
     "output_type": "stream",
     "text": [
      "16 64\n",
      "19 95\n",
      "26 65\n",
      "49 98\n",
      "100.0\n"
     ]
    }
   ],
   "source": [
    "def intersection(lst1, lst2):\n",
    "    lst3 = [value for value in lst1 if value in lst2]\n",
    "    return lst3\n",
    "\n",
    "def simplifier(a,b):\n",
    "    liste = intersection(str(a), str(b))\n",
    "    new_a = str(a)\n",
    "    new_b = str(b)\n",
    "    for elem in liste:\n",
    "        new_a = new_a.replace(elem,'')\n",
    "        new_b = new_b.replace(elem,'')\n",
    "    try:\n",
    "        return int(new_a), int(new_b)\n",
    "    except:\n",
    "        return 1,1\n",
    "\n",
    "deno = 1\n",
    "for i in range(10,100):\n",
    "    for j in range(i+1,100):\n",
    "#         print(i,j)\n",
    "        new_i, new_j = simplifier(i, j)\n",
    "        if new_j*i == new_i*j and i!=new_i and i%10!=0:\n",
    "            print(i,j)\n",
    "            deno *= new_j/new_i\n",
    "print(deno)"
   ]
  },
  {
   "cell_type": "code",
   "execution_count": null,
   "id": "9ea67b16",
   "metadata": {},
   "outputs": [],
   "source": [
    "#Exercice_34"
   ]
  },
  {
   "cell_type": "code",
   "execution_count": 32,
   "id": "96ce60ae",
   "metadata": {},
   "outputs": [
    {
     "name": "stdout",
     "output_type": "stream",
     "text": [
      "145\n",
      "40585\n",
      "40730\n"
     ]
    }
   ],
   "source": [
    "import math\n",
    "\n",
    "def valid(number):\n",
    "    val = sum([math.factorial(int(elem)) for elem in str(number)])\n",
    "    return val\n",
    "\n",
    "liste = []\n",
    "for i in range(3,10**6):\n",
    "    if i == valid(i):\n",
    "        liste.append(i)\n",
    "#         print(i)\n",
    "print(sum(liste))"
   ]
  },
  {
   "cell_type": "code",
   "execution_count": null,
   "id": "a42fc3d7",
   "metadata": {},
   "outputs": [],
   "source": [
    "#Exercice_35"
   ]
  },
  {
   "cell_type": "code",
   "execution_count": 46,
   "id": "dc6dba90",
   "metadata": {},
   "outputs": [
    {
     "name": "stdout",
     "output_type": "stream",
     "text": [
      "[2, 3, 5, 7, 11, 13, 17, 31, 37, 71, 73, 79, 97, 113, 131, 197, 199, 311, 337, 373, 719, 733, 919, 971, 991, 1193, 1931, 3119, 3779, 7793, 7937, 9311, 9377, 11939, 19391, 19937, 37199, 39119, 71993, 91193, 93719, 93911, 99371, 193939, 199933, 319993, 331999, 391939, 393919, 919393, 933199, 939193, 939391, 993319, 999331] 8184200 55\n"
     ]
    }
   ],
   "source": [
    "dico = dict()\n",
    "\n",
    "def is_prime(n):\n",
    "    for i in range(2,int(n**0.5)+1):\n",
    "        if n%i == 0:\n",
    "            return False\n",
    "    return True\n",
    "\n",
    "def permutations(n):\n",
    "    number = str(n)\n",
    "    taille = len(number)\n",
    "    liste = []\n",
    "    for i in range(taille):\n",
    "        number = number[1:]+number[0]\n",
    "        liste.append(int(number))\n",
    "    return liste\n",
    "\n",
    "liste = []\n",
    "for i in range(2,1_000_000):\n",
    "    try:\n",
    "        val = dico[i]\n",
    "        if val:\n",
    "            liste.append(i)\n",
    "    except:\n",
    "        liste_permut = permutations(i)\n",
    "        tag = True\n",
    "        for elem in liste_permut:\n",
    "            if not is_prime(elem):\n",
    "                tag = False\n",
    "                break\n",
    "        for elem in liste_permut:\n",
    "            dico[elem] = tag\n",
    "        if tag:\n",
    "            liste.append(i)\n",
    "print(liste,sum(liste), len(liste))"
   ]
  },
  {
   "cell_type": "code",
   "execution_count": null,
   "id": "8ab60e36",
   "metadata": {},
   "outputs": [],
   "source": [
    "#Exercice_36"
   ]
  },
  {
   "cell_type": "code",
   "execution_count": 73,
   "id": "2ae81b7c",
   "metadata": {},
   "outputs": [
    {
     "name": "stdout",
     "output_type": "stream",
     "text": [
      "[1, 3, 5, 7, 9, 33, 99, 313, 585, 717, 7447, 9009, 15351, 32223, 39993, 53235, 53835, 73737, 585585] 872187\n"
     ]
    }
   ],
   "source": [
    "def is_palyndrom(n):\n",
    "    return str(n) == str(n)[::-1]\n",
    "\n",
    "liste = []\n",
    "for i in range(1,1_000_000):\n",
    "    binary = bin(i)[2:]\n",
    "    if is_palyndrom(i) and is_palyndrom(binary):\n",
    "        liste.append(i)\n",
    "print(liste,sum(liste))"
   ]
  },
  {
   "cell_type": "code",
   "execution_count": null,
   "id": "8cc3f922",
   "metadata": {},
   "outputs": [],
   "source": [
    "#Exercice_37"
   ]
  },
  {
   "cell_type": "code",
   "execution_count": 10,
   "id": "a800b89e",
   "metadata": {},
   "outputs": [
    {
     "name": "stdout",
     "output_type": "stream",
     "text": [
      "[23, 37, 53, 73, 313, 317, 373, 797, 3137, 3797, 739397] 748317\n"
     ]
    }
   ],
   "source": [
    "\n",
    "dico = dict()\n",
    "dico[1] = False\n",
    "\n",
    "def is_prime(n):\n",
    "    try:\n",
    "        return dico[n]\n",
    "    except:\n",
    "        pass\n",
    "    for i in range(2,int(n**0.5)+1):\n",
    "        if n%i == 0:\n",
    "#             print(i)\n",
    "            dico[n] = False\n",
    "            return False\n",
    "    dico[n] = True\n",
    "    return True\n",
    "\n",
    "def is_really_prime(n):\n",
    "    size = len(str(n))\n",
    "    for i in range(size):\n",
    "        if not is_prime(int(str(n)[i::])):\n",
    "            return False\n",
    "        if not is_prime(int(str(n)[0:size-i])):\n",
    "            return False\n",
    "    return True\n",
    "\n",
    "liste = []\n",
    "n = 10\n",
    "while len(liste) < 11:\n",
    "#     print(len(liste))\n",
    "    if is_really_prime(n):\n",
    "        liste.append(n)\n",
    "#         print(n)\n",
    "    n += 1\n",
    "print(liste,sum(liste))"
   ]
  },
  {
   "cell_type": "code",
   "execution_count": null,
   "id": "b93b8296",
   "metadata": {},
   "outputs": [],
   "source": [
    "#Exercice_38"
   ]
  },
  {
   "cell_type": "code",
   "execution_count": 134,
   "id": "8a05f9e8",
   "metadata": {},
   "outputs": [
    {
     "name": "stdout",
     "output_type": "stream",
     "text": [
      "[123456789, 918273645, 192384576, 219438657, 273546819, 327654981, 672913458, 679213584, 692713854, 726914538, 729314586, 732914658, 769215384, 792315846, 793215864, 926718534, 927318546, 932718654] 932718654\n"
     ]
    }
   ],
   "source": [
    "def create_from(n):\n",
    "    mot = \"\"\n",
    "    i = 1\n",
    "    while len(mot)<9:\n",
    "        mot += str(n*i)\n",
    "        i += 1\n",
    "#     print(mot)\n",
    "    if '0' in mot or len(mot) !=9:\n",
    "        return mot, False\n",
    "    taille_mot = list(set(mot))\n",
    "    return mot, len(taille_mot) == 9\n",
    "\n",
    "liste = []\n",
    "for i in range(10**5):\n",
    "    mot, boolean = create_from(i)\n",
    "    if boolean:\n",
    "        liste.append(int(mot))\n",
    "print(liste,max(liste))"
   ]
  },
  {
   "cell_type": "code",
   "execution_count": null,
   "id": "9dd62acc",
   "metadata": {},
   "outputs": [],
   "source": [
    "#Exercice_39"
   ]
  },
  {
   "cell_type": "code",
   "execution_count": 79,
   "id": "4bb029da",
   "metadata": {},
   "outputs": [
    {
     "name": "stdout",
     "output_type": "stream",
     "text": [
      "8 840\n"
     ]
    }
   ],
   "source": [
    "dico = dict()\n",
    "for i in range(1001):\n",
    "    dico[i] = 0\n",
    "    \n",
    "for i in range(1,1000):\n",
    "    for j in range(i+1,1000-i):\n",
    "        for x in range(j+1,1000-i-j):\n",
    "            if x+i+j >1000:\n",
    "                continue\n",
    "            if i**2+j**2 == x**2:\n",
    "                dico[x+i+j] += 1\n",
    "\n",
    "maxi = 0\n",
    "indice = 0\n",
    "for ind, val in dico.items():\n",
    "    if val>maxi:\n",
    "        indice = ind\n",
    "        maxi = val\n",
    "print(maxi, indice)"
   ]
  },
  {
   "cell_type": "code",
   "execution_count": null,
   "id": "b9a0faac",
   "metadata": {},
   "outputs": [],
   "source": [
    "#Exercice_40"
   ]
  },
  {
   "cell_type": "code",
   "execution_count": 118,
   "id": "15d7d161",
   "metadata": {},
   "outputs": [
    {
     "name": "stdout",
     "output_type": "stream",
     "text": [
      "210\n"
     ]
    }
   ],
   "source": [
    "def find_number(position):\n",
    "    number = 9\n",
    "    taille = 1\n",
    "    while number < position:\n",
    "        taille += 1\n",
    "        position -= number\n",
    "        number = taille*9*10**(taille-1)\n",
    "        \n",
    "    # we know the size of the number\n",
    "    numero = position//taille\n",
    "    if position%taille:\n",
    "        numero += 1\n",
    "    \n",
    "    soluce = numero+10**(taille-1)-1\n",
    "    \n",
    "    return taille, position, soluce, str(soluce)[position%taille-1]\n",
    "\n",
    "multi = 1\n",
    "for i in range(7):\n",
    "    _,_,_,a = find_number(10**i)\n",
    "    multi *= int(a)\n",
    "print(multi)"
   ]
  },
  {
   "cell_type": "code",
   "execution_count": 117,
   "id": "ae9eef94",
   "metadata": {},
   "outputs": [
    {
     "data": {
      "text/plain": [
       "(2, 3, 11, '1')"
      ]
     },
     "execution_count": 117,
     "metadata": {},
     "output_type": "execute_result"
    }
   ],
   "source": [
    "find_number(12)"
   ]
  },
  {
   "cell_type": "code",
   "execution_count": null,
   "id": "0a13ad3f",
   "metadata": {},
   "outputs": [],
   "source": []
  }
 ],
 "metadata": {
  "kernelspec": {
   "display_name": "Python 3 (ipykernel)",
   "language": "python",
   "name": "python3"
  },
  "language_info": {
   "codemirror_mode": {
    "name": "ipython",
    "version": 3
   },
   "file_extension": ".py",
   "mimetype": "text/x-python",
   "name": "python",
   "nbconvert_exporter": "python",
   "pygments_lexer": "ipython3",
   "version": "3.11.4"
  }
 },
 "nbformat": 4,
 "nbformat_minor": 5
}
